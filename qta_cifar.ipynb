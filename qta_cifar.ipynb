{
 "cells": [
  {
   "cell_type": "markdown",
   "metadata": {},
   "source": [
    "# QTA 招新笔试\n",
    "\n",
    "## 题目概述\n",
    "\n",
    "CIFAR-10 数据集由 10 个类的 60000 个 32x32 彩色图像组成，每个类有 6000 个图像。有 50000 个训练图像和 10000 个测试图像。数据集分为 5 个训练批次和 1 个测试批次，每个批次有 10000 个图像。\n",
    "\n",
    "与 MNIST 数据集中目比， CIFAR-10 有以下特点：\n",
    "\n",
    "1. CIFAR-10 是 3 通道的彩色 RGB 图像，而 MNIST 是1通道的灰度图像。\n",
    "2. CIFAR-10 的图片尺寸为 32 × 32 ，而 MNIST 的图片尺寸为 28 × 28 ，比 MNIST 稍大。\n",
    "3. 相比于手写字符， CIFAR-10 是现实世界中真实的物体，不仅噪声很大，而且物体的比例、特征都不尽相同。\n",
    "\n",
    "## 题目要求\n",
    "\n",
    "使用常见的深度学习框架（Tensorflow/PyTorch）搭建一个基于 CIFAR-10 的分类模型，要求对模型进行训练并记录下训练集与测试集上的 loss 和 acc 结果。\n",
    "\n",
    "注：所构建模型在数据自带的测试集上的分类准确率至少达到 80%。\n",
    "\n",
    "## 数据链接\n",
    "\n",
    "[CIFAR-10](https://pytorch.org/docs/0.3.0/torchvision/datasets.html#cifar)"
   ]
  },
  {
   "cell_type": "markdown",
   "metadata": {},
   "source": [
    "## 编程作答\n",
    "\n",
    "### 数据集获取"
   ]
  },
  {
   "cell_type": "code",
   "execution_count": null,
   "metadata": {
    "collapsed": true
   },
   "outputs": [],
   "source": [
    "import torch\n",
    "from torch.utils.data import DataLoader\n",
    "from torchvision import transforms\n",
    "from torchvision.datasets import CIFAR10\n",
    "\n",
    "# Normalization transform\n",
    "__transformer = transforms.Compose(\n",
    "    [\n",
    "        transforms.ToTensor(),\n",
    "        transforms.Normalize(\n",
    "            mean=[0.485, 0.456, 0.406],\n",
    "            std=[0.229, 0.224, 0.225]\n",
    "        )\n",
    "    ]\n",
    ")\n",
    "\n",
    "# Get CIFAR-10 dataset\n",
    "train_data = CIFAR10(root='./data', train=True, download=True, transform=__transformer)\n",
    "train_loader = DataLoader(train_data, batch_size=128, shuffle=True, num_workers=4)\n",
    "\n",
    "test_data = CIFAR10(root='./data', train=False, download=True, transform=__transformer)\n",
    "test_loader = DataLoader(test_data, batch_size=128, shuffle=False, num_workers=4)\n",
    "\n",
    "classes = ('plane', 'car', 'bird', 'cat', 'deer', 'dog', 'frog', 'horse', 'ship', 'truck')"
   ]
  },
  {
   "cell_type": "markdown",
   "metadata": {},
   "source": [
    "### 获取加速设备"
   ]
  },
  {
   "cell_type": "code",
   "execution_count": null,
   "metadata": {},
   "outputs": [],
   "source": [
    "device = torch.device(\"cpu\")\n",
    "\n",
    "if torch.cuda.is_available():\n",
    "    device = torch.device(\"cuda:0\")\n",
    "elif torch.backends.mps.is_available():\n",
    "    device = torch.device(\"mps\")\n",
    "\n",
    "print(\"Device:\", device)"
   ]
  },
  {
   "cell_type": "markdown",
   "metadata": {
    "collapsed": false
   },
   "source": [
    "### 模型构建"
   ]
  },
  {
   "cell_type": "code",
   "execution_count": null,
   "metadata": {
    "collapsed": false
   },
   "outputs": [],
   "source": [
    "from model import DenseNet121\n",
    "from torch.optim.lr_scheduler import MultiStepLR\n",
    "\n",
    "model = DenseNet121().to(device)\n",
    "optimizer = torch.optim.SGD(model.parameters(), lr=0.1)\n",
    "scheduler = MultiStepLR(optimizer, milestones=[50,75], gamma=0.1)\n",
    "loss_func = torch.nn.CrossEntropyLoss()"
   ]
  },
  {
   "cell_type": "markdown",
   "metadata": {
    "collapsed": false
   },
   "source": [
    "### 模型训练"
   ]
  },
  {
   "cell_type": "code",
   "execution_count": null,
   "metadata": {
    "collapsed": false
   },
   "outputs": [],
   "source": [
    "from trainer import Trainer\n",
    "\n",
    "trainer = Trainer(model, optimizer, loss_func, device, train_loader, test_loader, scheduler, epochs=100)\n",
    "train_acc_list, test_acc_list = trainer.train()"
   ]
  },
  {
   "cell_type": "markdown",
   "metadata": {
    "collapsed": false
   },
   "source": [
    "### 指标可视化"
   ]
  },
  {
   "cell_type": "code",
   "execution_count": null,
   "metadata": {
    "collapsed": false
   },
   "outputs": [],
   "source": [
    "import numpy as np\n",
    "import matplotlib.pyplot as plt\n",
    "\n",
    "plt.plot(np.arange(len(train_acc_list)), train_acc_list, label=\"train acc\")\n",
    "plt.plot(np.arange(len(test_acc_list)), test_acc_list, label=\"test acc\")\n",
    "\n",
    "plt.legend() #显示图例\n",
    "plt.xlabel('epoches')\n",
    "plt.title('Model(DenseNet121) accuracy')\n",
    "\n",
    "plt.show()"
   ]
  }
 ],
 "metadata": {
  "kernelspec": {
   "display_name": "Python 3",
   "language": "python",
   "name": "python3"
  },
  "language_info": {
   "codemirror_mode": {
    "name": "ipython",
    "version": 3
   },
   "file_extension": ".py",
   "mimetype": "text/x-python",
   "name": "python",
   "nbconvert_exporter": "python",
   "pygments_lexer": "ipython3",
   "version": "3.10.10"
  }
 },
 "nbformat": 4,
 "nbformat_minor": 0
}
